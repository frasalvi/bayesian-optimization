{
 "cells": [
  {
   "cell_type": "markdown",
   "metadata": {},
   "source": [
    "# Bayesian optimization on a small neural network"
   ]
  },
  {
   "cell_type": "markdown",
   "metadata": {},
   "source": [
    "### Imports"
   ]
  },
  {
   "cell_type": "code",
   "execution_count": 1,
   "metadata": {},
   "outputs": [],
   "source": [
    "import torch\n",
    "from torch import nn, optim\n",
    "\n",
    "import sklearn\n",
    "import sklearn.model_selection as skm\n",
    "\n",
    "from bayes_opt import BayesianOptimization\n",
    "\n",
    "import numpy as np\n",
    "import pandas as pd\n",
    "from pylab import rcParams\n",
    "import matplotlib.pyplot as plt\n",
    "\n",
    "from tqdm import tqdm\n",
    "\n",
    "rcParams['figure.figsize'] = 12, 8\n",
    "\n",
    "from scipy.stats import ttest_ind\n",
    "\n",
    "from helpers_NN import *"
   ]
  },
  {
   "cell_type": "markdown",
   "metadata": {},
   "source": [
    "### Data"
   ]
  },
  {
   "cell_type": "code",
   "execution_count": 3,
   "metadata": {},
   "outputs": [],
   "source": [
    "# Import the titanic survival data\n",
    "\n",
    "titanic = pd.read_excel('data/titanic.xls')\n",
    "titanic_features = ['sex', 'age', 'sibsp', 'parch', 'fare']"
   ]
  },
  {
   "cell_type": "code",
   "execution_count": 4,
   "metadata": {},
   "outputs": [
    {
     "data": {
      "text/html": [
       "<div>\n",
       "<style scoped>\n",
       "    .dataframe tbody tr th:only-of-type {\n",
       "        vertical-align: middle;\n",
       "    }\n",
       "\n",
       "    .dataframe tbody tr th {\n",
       "        vertical-align: top;\n",
       "    }\n",
       "\n",
       "    .dataframe thead th {\n",
       "        text-align: right;\n",
       "    }\n",
       "</style>\n",
       "<table border=\"1\" class=\"dataframe\">\n",
       "  <thead>\n",
       "    <tr style=\"text-align: right;\">\n",
       "      <th></th>\n",
       "      <th>age</th>\n",
       "      <th>fare</th>\n",
       "      <th>sex_male</th>\n",
       "    </tr>\n",
       "  </thead>\n",
       "  <tbody>\n",
       "    <tr>\n",
       "      <th>0</th>\n",
       "      <td>29.0000</td>\n",
       "      <td>211.3375</td>\n",
       "      <td>0</td>\n",
       "    </tr>\n",
       "    <tr>\n",
       "      <th>1</th>\n",
       "      <td>0.9167</td>\n",
       "      <td>151.5500</td>\n",
       "      <td>1</td>\n",
       "    </tr>\n",
       "    <tr>\n",
       "      <th>2</th>\n",
       "      <td>2.0000</td>\n",
       "      <td>151.5500</td>\n",
       "      <td>0</td>\n",
       "    </tr>\n",
       "    <tr>\n",
       "      <th>3</th>\n",
       "      <td>30.0000</td>\n",
       "      <td>151.5500</td>\n",
       "      <td>1</td>\n",
       "    </tr>\n",
       "    <tr>\n",
       "      <th>4</th>\n",
       "      <td>25.0000</td>\n",
       "      <td>151.5500</td>\n",
       "      <td>0</td>\n",
       "    </tr>\n",
       "  </tbody>\n",
       "</table>\n",
       "</div>"
      ],
      "text/plain": [
       "       age      fare  sex_male\n",
       "0  29.0000  211.3375         0\n",
       "1   0.9167  151.5500         1\n",
       "2   2.0000  151.5500         0\n",
       "3  30.0000  151.5500         1\n",
       "4  25.0000  151.5500         0"
      ]
     },
     "execution_count": 4,
     "metadata": {},
     "output_type": "execute_result"
    }
   ],
   "source": [
    "# Keep 3 of the features to reduce the size of the neural network\n",
    "\n",
    "X = pd.get_dummies(titanic[titanic_features])\n",
    "X = X.fillna(X.mean())\n",
    "X = X[['age', 'fare', 'sex_male']]\n",
    "X.head(5)"
   ]
  },
  {
   "cell_type": "code",
   "execution_count": 5,
   "metadata": {},
   "outputs": [
    {
     "data": {
      "text/plain": [
       "0    1\n",
       "1    1\n",
       "2    0\n",
       "3    0\n",
       "4    0\n",
       "Name: survived, dtype: int64"
      ]
     },
     "execution_count": 5,
     "metadata": {},
     "output_type": "execute_result"
    }
   ],
   "source": [
    "# Expected output\n",
    "\n",
    "y = titanic['survived']\n",
    "y.head(5)"
   ]
  },
  {
   "cell_type": "markdown",
   "metadata": {},
   "source": [
    "### Functions"
   ]
  },
  {
   "cell_type": "code",
   "execution_count": 6,
   "metadata": {},
   "outputs": [],
   "source": [
    "# Function outputing the loss to maximize during the steps of bayesian optimization\n",
    "\n",
    "def net_classifier(w100, w101, w102, w110, w111, w112, w120, w121, w122, b10, b11, b12, w20, w21, w22, b2):\n",
    "\n",
    "    # Initialize a neural network\n",
    "    net = Net(X_train.shape[1])\n",
    "    \n",
    "    # Set the weights and the biases of the net\n",
    "    weights1 = torch.nn.Parameter(torch.Tensor(np.array([[w100, w101, w102], [w110, w111, w112], [w120, w121, w122]])))\n",
    "    bias1 = torch.nn.Parameter(torch.Tensor(np.array([b10, b11, b12])))\n",
    "    weights2 = torch.nn.Parameter(torch.Tensor(np.array([[w20, w21, w22]])))\n",
    "    bias2 = torch.nn.Parameter(torch.Tensor(np.array([b2])))\n",
    "    \n",
    "    net.fc1.weight = weights1\n",
    "    net.fc1.bias = bias1\n",
    "    net.fc2.weight = weights2\n",
    "    net.fc2.bias = bias2\n",
    "\n",
    "    # Criterion is Binary Cross-Entropy Loss\n",
    "    criterion = nn.BCELoss()\n",
    "\n",
    "    # Get the predicted outputs through the neural net\n",
    "    y_pred = torch.squeeze(net(X_train)).ge(.5).view(-1)\n",
    "    bin_pred = []\n",
    "    for element in y_pred.numpy():\n",
    "        if element:\n",
    "            bin_pred.append(1)\n",
    "        else:\n",
    "            bin_pred.append(0)\n",
    "    y_pred = torch.Tensor(np.array(bin_pred)).type(torch.float)\n",
    "\n",
    "    # Calculate the loss with respect to the expected outputs\n",
    "    loss = criterion(y_pred, y_train)\n",
    "\n",
    "    # Return the negative loss to allow for maximization \n",
    "    return (-1)*loss"
   ]
  },
  {
   "cell_type": "markdown",
   "metadata": {},
   "source": [
    "### Parameters"
   ]
  },
  {
   "cell_type": "code",
   "execution_count": 7,
   "metadata": {},
   "outputs": [],
   "source": [
    "# Number of steps of gradient descent\n",
    "n_steps= 1000\n",
    "\n",
    "# Number of instances \n",
    "n_inst = 100"
   ]
  },
  {
   "cell_type": "markdown",
   "metadata": {},
   "source": [
    "### Gradient descent only"
   ]
  },
  {
   "cell_type": "code",
   "execution_count": 8,
   "metadata": {},
   "outputs": [
    {
     "name": "stderr",
     "output_type": "stream",
     "text": [
      "100%|██████████| 100/100 [00:39<00:00,  2.55it/s]\n"
     ]
    }
   ],
   "source": [
    "grad_test_loss = []\n",
    "grad_train_loss = []\n",
    "\n",
    "pbar = tqdm(total=n_inst)\n",
    "\n",
    "for i in range(n_inst):\n",
    "    torch.manual_seed(i)\n",
    "    # Initialize net, criterion and optimizer\n",
    "    net = Net(X.shape[1])\n",
    "    criterion = nn.BCELoss()\n",
    "    optimizer = optim.SGD(net.parameters(), lr=0.001)\n",
    "\n",
    "    # Separate train and test set\n",
    "    X_train, X_test, y_train, y_test = skm.train_test_split(X, y, test_size=0.20)\n",
    "    X_train = torch.from_numpy(X_train.to_numpy()).float()\n",
    "    y_train = torch.squeeze(torch.from_numpy(y_train.to_numpy()).float())\n",
    "    X_test = torch.from_numpy(X_test.to_numpy()).float()\n",
    "    y_test = torch.squeeze(torch.from_numpy(y_test.to_numpy()).float())\n",
    "\n",
    "    # Gradient descent\n",
    "    train_loss, test_loss = grad_descent(n_steps, net, optimizer, criterion, X_train, y_train, X_test, y_test)\n",
    "\n",
    "    grad_train_loss.append(train_loss)\n",
    "    grad_test_loss.append(test_loss)\n",
    "\n",
    "    pbar.update(1)\n",
    "\n",
    "pbar.close()"
   ]
  },
  {
   "cell_type": "markdown",
   "metadata": {},
   "source": [
    "### Bayesian optimization"
   ]
  },
  {
   "cell_type": "code",
   "execution_count": 9,
   "metadata": {},
   "outputs": [
    {
     "name": "stderr",
     "output_type": "stream",
     "text": [
      "100%|██████████| 100/100 [09:14<00:00,  5.54s/it]\n"
     ]
    }
   ],
   "source": [
    "bo_train_loss = []\n",
    "bo_test_loss = []\n",
    "\n",
    "# Bayesian optimization will search in [-bound, +bound]\n",
    "bound = 1/np.sqrt(3)\n",
    "\n",
    "\n",
    "pbar = tqdm(total=n_inst)\n",
    "\n",
    "for i in range(n_inst):\n",
    "\n",
    "    # Separate train and test set\n",
    "    X_train, X_test, y_train, y_test = skm.train_test_split(X, y, test_size=0.20)\n",
    "    X_train = torch.from_numpy(X_train.to_numpy()).float()\n",
    "    y_train = torch.squeeze(torch.from_numpy(y_train.to_numpy()).float())\n",
    "    X_test = torch.from_numpy(X_test.to_numpy()).float()\n",
    "    y_test = torch.squeeze(torch.from_numpy(y_test.to_numpy()).float())\n",
    "\n",
    "    # Initialize an instance of Bayesian Optimization to optimize the weights and biases of the net\n",
    "    netBO = BayesianOptimization(net_classifier, {  'w100': (-bound, bound),\n",
    "                                                    'w101': (-bound, bound),\n",
    "                                                    'w102': (-bound, bound),\n",
    "                                                    'w110': (-bound, bound),\n",
    "                                                    'w111': (-bound, bound),\n",
    "                                                    'w112': (-bound, bound),\n",
    "                                                    'w120': (-bound, bound),\n",
    "                                                    'w121': (-bound, bound),\n",
    "                                                    'w122': (-bound, bound),\n",
    "                                                    'b10': (-bound, bound),\n",
    "                                                    'b11': (-bound, bound),\n",
    "                                                    'b12': (-bound, bound),\n",
    "                                                    'w20': (-bound, bound),\n",
    "                                                    'w21': (-bound, bound),\n",
    "                                                    'w22': (-bound, bound),\n",
    "                                                    'b2': (-bound, bound)},\n",
    "                                                    verbose= 0,\n",
    "                                                    random_state=i)\n",
    "    \n",
    "    # Maximize the negative loss\n",
    "    netBO.maximize(n_iter=10, init_points=5)\n",
    "\n",
    "    # Get the weights and biases that got the best result\n",
    "    params = netBO.max['params']\n",
    "    \n",
    "    # Initialize a neural net\n",
    "    net = Net(X.shape[1])\n",
    "    \n",
    "    # Initialize the weights with the best result from BO\n",
    "    weights1 = torch.nn.Parameter(torch.Tensor(np.array([[params['w100'], params['w101'], params['w102']], [params['w110'], params['w111'], params['w112']], [params['w120'], params['w121'], params['w122']]])))\n",
    "    bias1 = torch.nn.Parameter(torch.Tensor(np.array([params['b10'], params['b11'], params['b12']])))\n",
    "    weights2 = torch.nn.Parameter(torch.Tensor(np.array([[params['w20'], params['w21'], params['w22']]])))\n",
    "    bias2 = torch.nn.Parameter(torch.Tensor(np.array([params['b2']])))\n",
    "    \n",
    "    net.fc1.weight = weights1\n",
    "    net.fc1.bias = bias1\n",
    "    net.fc2.weight = weights2\n",
    "    net.fc2.bias = bias2\n",
    "\n",
    "    criterion = nn.BCELoss()\n",
    "    optimizer = optim.SGD(net.parameters(), lr=0.001)\n",
    "\n",
    "    # Gradient descent on the net with the weights and biases set by BO\n",
    "    train_loss, test_loss = grad_descent(n_steps, net, optimizer, criterion, X_train, y_train, X_test, y_test)\n",
    "\n",
    "    bo_train_loss.append(train_loss)\n",
    "    bo_test_loss.append(test_loss)\n",
    "\n",
    "    pbar.update(1)\n",
    "\n",
    "pbar.close()\n",
    "    "
   ]
  },
  {
   "cell_type": "markdown",
   "metadata": {},
   "source": [
    "### Plots"
   ]
  },
  {
   "cell_type": "code",
   "execution_count": 10,
   "metadata": {},
   "outputs": [],
   "source": [
    "import matplotlib.pyplot as plt"
   ]
  },
  {
   "cell_type": "code",
   "execution_count": 11,
   "metadata": {},
   "outputs": [],
   "source": [
    "plot_grad_test = []\n",
    "plot_grad_train = []\n",
    "\n",
    "plot_bo_test = []\n",
    "plot_bo_train = []\n",
    "\n",
    "for element in grad_test_loss:\n",
    "    inter = []\n",
    "    for sub in element:\n",
    "        inter.append(sub.detach().numpy().tolist())\n",
    "    plot_grad_test.append(inter)\n",
    "\n",
    "for element in grad_train_loss:\n",
    "    inter = []\n",
    "    for sub in element:\n",
    "        inter.append(sub.detach().numpy().tolist())\n",
    "    plot_grad_train.append(inter)\n",
    "\n",
    "\n",
    "for element in bo_test_loss:\n",
    "    inter = []\n",
    "    for sub in element:\n",
    "        inter.append(sub.detach().numpy().tolist())\n",
    "    plot_bo_test.append(inter)\n",
    "\n",
    "for element in bo_train_loss:\n",
    "    inter = []\n",
    "    for sub in element:\n",
    "        inter.append(sub.detach().numpy().tolist())\n",
    "    plot_bo_train.append(inter)"
   ]
  },
  {
   "cell_type": "code",
   "execution_count": 12,
   "metadata": {},
   "outputs": [],
   "source": [
    "x = np.linspace(0,(n_steps // 10) - 1, n_steps // 10)"
   ]
  },
  {
   "cell_type": "markdown",
   "metadata": {},
   "source": [
    "### Train loss"
   ]
  },
  {
   "cell_type": "code",
   "execution_count": 13,
   "metadata": {},
   "outputs": [
    {
     "data": {
      "image/png": "[encoded data removed]",
      "text/plain": [
       "<Figure size 864x576 with 1 Axes>"
      ]
     },
     "metadata": {
      "needs_background": "light"
     },
     "output_type": "display_data"
    }
   ],
   "source": [
    "plt.plot(x, np.mean(plot_grad_train, axis=0), label='gradient')\n",
    "plt.plot(x, np.mean(plot_bo_train, axis=0), label='BO')\n",
    "plt.xlabel('Iterations of gradient descent (x10)')\n",
    "plt.ylabel('Loss')\n",
    "plt.title('Train loss')\n",
    "plt.legend()\n",
    "plt.show()"
   ]
  },
  {
   "cell_type": "markdown",
   "metadata": {},
   "source": [
    "### Test loss"
   ]
  },
  {
   "cell_type": "code",
   "execution_count": 14,
   "metadata": {},
   "outputs": [
    {
     "data": {
      "image/png": "[encoded data removed]",
      "text/plain": [
       "<Figure size 864x576 with 1 Axes>"
      ]
     },
     "metadata": {
      "needs_background": "light"
     },
     "output_type": "display_data"
    }
   ],
   "source": [
    "plt.plot(x, np.mean(plot_grad_test, axis=0), label='gradient')\n",
    "plt.plot(x, np.mean(plot_bo_test, axis=0), label='BO')\n",
    "plt.xlabel('Iterations of gradient descent (x10)')\n",
    "plt.ylabel('Loss')\n",
    "plt.title('Test loss')\n",
    "plt.legend()\n",
    "plt.show()"
   ]
  },
  {
   "cell_type": "markdown",
   "metadata": {},
   "source": [
    "### Results"
   ]
  },
  {
   "cell_type": "code",
   "execution_count": 15,
   "metadata": {},
   "outputs": [],
   "source": [
    "final_grad = np.mean(plot_grad_test, axis=0)[-1]\n",
    "final_bo = np.mean(plot_bo_test, axis=0)[-1]"
   ]
  },
  {
   "cell_type": "code",
   "execution_count": 16,
   "metadata": {},
   "outputs": [
    {
     "name": "stdout",
     "output_type": "stream",
     "text": [
      "Mean final loss : 0.6446581512689591 (gradient descent only)\n",
      "Mean final loss : 0.6335808688402176 (bayesian optimization)\n",
      "Difference : 1.75 %\n"
     ]
    }
   ],
   "source": [
    "# Difference in loss for GD only and bayesian optimization\n",
    "\n",
    "print(\"Mean final loss :\", final_grad, \"(gradient descent only)\")\n",
    "print(\"Mean final loss :\", final_bo, \"(bayesian optimization)\")\n",
    "print(\"Difference :\", round((final_grad - final_bo) / final_bo * 100, 2), \"%\")"
   ]
  },
  {
   "cell_type": "code",
   "execution_count": 17,
   "metadata": {},
   "outputs": [],
   "source": [
    "# Access all the last loss values for each instance\n",
    "\n",
    "last_grad_test = [element[-1] for element in plot_grad_test]\n",
    "last_bo_test = [element[-1] for element in plot_bo_test]"
   ]
  },
  {
   "cell_type": "code",
   "execution_count": 18,
   "metadata": {},
   "outputs": [
    {
     "name": "stdout",
     "output_type": "stream",
     "text": [
      "p-value = 0.02822110460414481\n"
     ]
    }
   ],
   "source": [
    "# Check the statistical significance of the difference in final loss\n",
    "\n",
    "print(\"p-value =\", ttest_ind(last_grad_test, last_bo_test)[1])"
   ]
  },
  {
   "cell_type": "markdown",
   "metadata": {},
   "source": [
    "We see that the results for Bayesian optimization show a decrease in the loss. However, we want to make sure that this decrease is actually due to the bayesian optimization, and not simply the random search aspect. So we now compare bayesian optimization to gradient descent with 15 initial random searches."
   ]
  },
  {
   "cell_type": "markdown",
   "metadata": {},
   "source": [
    "## With random search"
   ]
  },
  {
   "cell_type": "code",
   "execution_count": 19,
   "metadata": {},
   "outputs": [
    {
     "name": "stderr",
     "output_type": "stream",
     "text": [
      "100%|██████████| 100/100 [00:40<00:00,  2.49it/s]\n"
     ]
    }
   ],
   "source": [
    "rand_grad_train_loss = []\n",
    "rand_grad_test_loss = []\n",
    "\n",
    "# Bayesian optimization will search in [-bound, +bound]\n",
    "bound = 1/np.sqrt(3)\n",
    "pbar = tqdm(total=n_inst)\n",
    "\n",
    "for i in range(n_inst):\n",
    "    \n",
    "    torch.manual_seed(i)\n",
    "    # Separate train and test set\n",
    "    X_train, X_test, y_train, y_test = sklearn.model_selection.train_test_split(X, y, test_size=0.20)\n",
    "    X_train = torch.from_numpy(X_train.to_numpy()).float()\n",
    "    y_train = torch.squeeze(torch.from_numpy(y_train.to_numpy()).float())\n",
    "    X_test = torch.from_numpy(X_test.to_numpy()).float()\n",
    "    y_test = torch.squeeze(torch.from_numpy(y_test.to_numpy()).float())\n",
    "\n",
    "    # Initialize an instance of Bayesian Optimization to optimize the weights and biases of the net\n",
    "    netBO = BayesianOptimization(net_classifier, {  'w100': (-bound, bound),\n",
    "                                                    'w101': (-bound, bound),\n",
    "                                                    'w102': (-bound, bound),\n",
    "                                                    'w110': (-bound, bound),\n",
    "                                                    'w111': (-bound, bound),\n",
    "                                                    'w112': (-bound, bound),\n",
    "                                                    'w120': (-bound, bound),\n",
    "                                                    'w121': (-bound, bound),\n",
    "                                                    'w122': (-bound, bound),\n",
    "                                                    'b10': (-bound, bound),\n",
    "                                                    'b11': (-bound, bound),\n",
    "                                                    'b12': (-bound, bound),\n",
    "                                                    'w20': (-bound, bound),\n",
    "                                                    'w21': (-bound, bound),\n",
    "                                                    'w22': (-bound, bound),\n",
    "                                                    'b2': (-bound, bound)},\n",
    "                                                    verbose= 0,\n",
    "                                                    random_state=i)\n",
    "    \n",
    "    # Maximize the negative loss\n",
    "    netBO.maximize(n_iter=0, init_points=15)\n",
    "\n",
    "    # Get the weights and biases that got the best result\n",
    "    params = netBO.max['params']\n",
    "    \n",
    "    # Initialize a neural net\n",
    "    net = Net(X.shape[1])\n",
    "    \n",
    "    # Initialize the weights with the best result from BO\n",
    "    weights1 = torch.nn.Parameter(torch.Tensor(np.array([[params['w100'], params['w101'], params['w102']], [params['w110'], params['w111'], params['w112']], [params['w120'], params['w121'], params['w122']]])))\n",
    "    bias1 = torch.nn.Parameter(torch.Tensor(np.array([params['b10'], params['b11'], params['b12']])))\n",
    "    weights2 = torch.nn.Parameter(torch.Tensor(np.array([[params['w20'], params['w21'], params['w22']]])))\n",
    "    bias2 = torch.nn.Parameter(torch.Tensor(np.array([params['b2']])))\n",
    "    \n",
    "    net.fc1.weight = weights1\n",
    "    net.fc1.bias = bias1\n",
    "    net.fc2.weight = weights2\n",
    "    net.fc2.bias = bias2\n",
    "\n",
    "    criterion = nn.BCELoss()\n",
    "    optimizer = optim.SGD(net.parameters(), lr=0.001)\n",
    "\n",
    "    # Gradient descent on the net with the weights and biases set by BO\n",
    "    train_loss, test_loss = grad_descent(n_steps, net, optimizer, criterion, X_train, y_train, X_test, y_test)\n",
    "\n",
    "    rand_grad_train_loss.append(train_loss)\n",
    "    rand_grad_test_loss.append(test_loss)\n",
    "\n",
    "    pbar.update(1)\n",
    "\n",
    "pbar.close()\n",
    "    "
   ]
  },
  {
   "cell_type": "code",
   "execution_count": 20,
   "metadata": {},
   "outputs": [],
   "source": [
    "plot_rand_grad_test = []\n",
    "plot_rand_grad_train = []\n",
    "\n",
    "for element in rand_grad_test_loss:\n",
    "    inter = []\n",
    "    for sub in element:\n",
    "        inter.append(sub.detach().numpy().tolist())\n",
    "    plot_rand_grad_test.append(inter)\n",
    "\n",
    "for element in rand_grad_train_loss:\n",
    "    inter = []\n",
    "    for sub in element:\n",
    "        inter.append(sub.detach().numpy().tolist())\n",
    "    plot_rand_grad_train.append(inter)"
   ]
  },
  {
   "cell_type": "code",
   "execution_count": 21,
   "metadata": {},
   "outputs": [
    {
     "data": {
      "image/png": "[encoded data removed]",
      "text/plain": [
       "<Figure size 864x576 with 1 Axes>"
      ]
     },
     "metadata": {
      "needs_background": "light"
     },
     "output_type": "display_data"
    }
   ],
   "source": [
    "plt.plot(x, np.mean(plot_rand_grad_train, axis=0), label='gradient + random search')\n",
    "plt.plot(x, np.mean(plot_bo_train, axis=0), label='BO')\n",
    "plt.xlabel('Iterations of gradient descent (x10)')\n",
    "plt.ylabel('Loss')\n",
    "plt.title('Train loss')\n",
    "plt.legend()\n",
    "plt.show()"
   ]
  },
  {
   "cell_type": "code",
   "execution_count": 22,
   "metadata": {},
   "outputs": [],
   "source": [
    "final_rand_grad = np.mean(plot_rand_grad_test, axis=0)[-1]\n",
    "final_bo = np.mean(plot_bo_test, axis=0)[-1]"
   ]
  },
  {
   "cell_type": "code",
   "execution_count": 23,
   "metadata": {},
   "outputs": [
    {
     "name": "stdout",
     "output_type": "stream",
     "text": [
      "Mean final loss : 0.6338917207717896 (gradient descent + random search)\n",
      "Mean final loss : 0.6335808688402176 (bayesian optimization)\n",
      "Difference : 0.05 %\n"
     ]
    }
   ],
   "source": [
    "# Difference in loss for GD + random search and bayesian optimization\n",
    "\n",
    "print(\"Mean final loss :\", final_rand_grad, \"(gradient descent + random search)\")\n",
    "print(\"Mean final loss :\", final_bo, \"(bayesian optimization)\")\n",
    "print(\"Difference :\", round((final_rand_grad - final_bo) / final_bo * 100, 2), \"%\")"
   ]
  },
  {
   "cell_type": "code",
   "execution_count": 24,
   "metadata": {},
   "outputs": [],
   "source": [
    "# Access all the last loss values for each instance\n",
    "\n",
    "last_rand_grad_test = [element[-1] for element in plot_rand_grad_test]\n",
    "last_bo_test = [element[-1] for element in plot_bo_test]"
   ]
  },
  {
   "cell_type": "code",
   "execution_count": 25,
   "metadata": {},
   "outputs": [
    {
     "name": "stdout",
     "output_type": "stream",
     "text": [
      "p-value = 0.9442880806789815\n"
     ]
    }
   ],
   "source": [
    "# Check the statistical significance of the difference in final loss\n",
    "\n",
    "print(\"p-value =\", ttest_ind(last_rand_grad_test, last_bo_test)[1])"
   ]
  },
  {
   "cell_type": "markdown",
   "metadata": {},
   "source": [
    "The results show that there is no statistical significance to the difference in final loss when accounting for random search prior to gradient descent. Knowing that bayesian optimization is very time-consuming, it's fair to say that for this case, bayesian optimization is not particularly well adapted."
   ]
  }
 ],
 "metadata": {
  "interpreter": {
   "hash": "2469a70536e4d2335a2ea8907942d0699c37342a371ac185bdb5b0aa6f073890"
  },
  "kernelspec": {
   "display_name": "Python 3.9.4 64-bit",
   "language": "python",
   "name": "python3"
  },
  "language_info": {
   "codemirror_mode": {
    "name": "ipython",
    "version": 3
   },
   "file_extension": ".py",
   "mimetype": "text/x-python",
   "name": "python",
   "nbconvert_exporter": "python",
   "pygments_lexer": "ipython3",
   "version": "3.9.4"
  },
  "orig_nbformat": 4
 },
 "nbformat": 4,
 "nbformat_minor": 2
}
